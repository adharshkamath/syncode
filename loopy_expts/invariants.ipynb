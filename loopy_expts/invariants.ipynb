{
 "cells": [
  {
   "cell_type": "code",
   "execution_count": 1,
   "id": "9a61de03",
   "metadata": {},
   "outputs": [],
   "source": [
    "import os\n",
    "import json"
   ]
  },
  {
   "cell_type": "code",
   "execution_count": 2,
   "id": "23530ae1",
   "metadata": {},
   "outputs": [
    {
     "name": "stderr",
     "output_type": "stream",
     "text": [
      "/home/adharsh/miniconda3/envs/syncode/lib/python3.12/site-packages/tqdm/auto.py:21: TqdmWarning: IProgress not found. Please update jupyter and ipywidgets. See https://ipywidgets.readthedocs.io/en/stable/user_install.html\n",
      "  from .autonotebook import tqdm as notebook_tqdm\n",
      "Loading checkpoint shards: 100%|██████████| 4/4 [00:00<00:00, 10.88it/s]\n"
     ]
    },
    {
     "name": "stdout",
     "output_type": "stream",
     "text": [
      "Creating DFA mask store for Qwen2TokenizerFast and custom, may take more than 10 minutes. Caching at /home/adharsh/repos/syncode/loopy_expts/cache/mask_stores/Qwen2TokenizerFast/grammar_mask_3902411203_151643.pkl.\n",
      "Ignore whitespace tokens is False\n"
     ]
    },
    {
     "name": "stderr",
     "output_type": "stream",
     "text": [
      "100%|██████████| 112/112 [04:34<00:00,  2.45s/it]\n"
     ]
    }
   ],
   "source": [
    "from syncode import Syncode\n",
    "import warnings\n",
    "warnings.filterwarnings('ignore')\n",
    "\n",
    "model_name = \"/data/share/models/hugging_face/models--Qwen--Qwen2.5-Coder-7B/snapshots/4c1c1611f30619a8695cf6d44b492a25c52b6f00/\"\n",
    "grammar_file = open(\"invariants.lark\", \"r\") \n",
    "grammar = grammar_file.read()\n",
    "grammar_file.close()\n",
    "\n",
    "# Load the Syncode augmented model\n",
    "syn_llm = Syncode(model = model_name, mode='grammar_mask', grammar=grammar, parse_output_only=True, log_level=2)"
   ]
  },
  {
   "cell_type": "code",
   "execution_count": 18,
   "id": "9488c06e",
   "metadata": {},
   "outputs": [],
   "source": [
    "prompt = \"\"\"You are a helpful AI software assistant that reasons about how code behaves. Given a program, you can find loop invariants, which can then be used to verify some property in the program. \n",
    "Frama-C is a software verification tool for C programs. The input to Frama-C is a C program file with ACSL (ANSI/ISO C Specification Language) annotations.\n",
    "For the given program, find the necessary loop invariants of the while loop to help Frama-C verify the post-condition.\n",
    "\n",
    "Instructions:\n",
    "- Make a note of the pre-conditions or variable assignments in the program.\n",
    "- Analyze the loop body and make a note of the loop condition. \n",
    "- Output loop invariants that are true \n",
    "(i) before the loop execution, \n",
    "(ii) in every iteration of the loop and \n",
    "(iii) after the loop termination, \n",
    "such that the loop invariants imply the post condition.\n",
    "- If a loop invariant is a conjunction, split it into its parts.\n",
    "- Output all the loop invariants in one code block. For example:\n",
    "```\n",
    "/*@ \n",
    "    loop invariant i1;\n",
    "    loop invariant i2;\n",
    "*/\n",
    "```\n",
    "Rules:\n",
    "- **Do not use variables or functions that are not declared in the program.** \n",
    "- **Do not make any assumptions about functions whose definitions are not given.**\n",
    "- **All undefined variables contain garbage values. Do not use variables that have garbage values.**\n",
    "- **Do not use keywords that are not supported in ACSL annotations for loops.**\n",
    "- **Variables that are not explicitly initialized, could have garbage values. Do not make any assumptions about such values.**\n",
    "- **Do not use the \\at(x, Pre) notation for any variable x.**\n",
    "- **Do not use non-deterministic function calls.**\n",
    "\n",
    "Consider the following C program:\n",
    "```\n",
    "{code}\n",
    "```\n",
    "\n",
    "You are allowed to use implication to take care of the conditional nature of the code. Use implication (==>) instead of using if-then.\n",
    "\n",
    "For all variables, add conjunctions that bound the maximum and minimum values that they can take, if such bounds exist.\n",
    "\n",
    "If a variable is always equal to or smaller or larger than another variable, add a conjunction for their relation.\n",
    "\n",
    "If the assertion is guarded by a condition, use the guard condition in an implication.\n",
    "\n",
    "If certain variables are non-deterministic at the beginning or end of the loop, use an implication to make the invariant trivially true at that location. \n",
    "\n",
    "Output the loop invariants for the loop in the program above. Let's think step by step.\n",
    "\"\"\""
   ]
  },
  {
   "cell_type": "code",
   "execution_count": 19,
   "id": "a975d54e",
   "metadata": {},
   "outputs": [],
   "source": [
    "benchmarks = []\n",
    "for i in range(1, 26):\n",
    "    with open(f\"dataset/code2inv/{i}.c\") as f:\n",
    "        code = f.read()\n",
    "        code = code.split(\"\\n\")[1:]\n",
    "        code = \"\\n\".join(code)\n",
    "        benchmarks.append({\"file\": f\"dataset/code2inv/{i}.c\", \"code\": code})"
   ]
  },
  {
   "cell_type": "code",
   "execution_count": 5,
   "id": "cc0f3afc",
   "metadata": {},
   "outputs": [
    {
     "data": {
      "text/plain": [
       "{'file': 'dataset/code2inv/1.c',\n",
       " 'code': '#include <stdlib.h>\\n#define assume(e) if(!(e)) exit(-1);\\n\\nint main() {\\n  \\n  int x;\\n  int y;\\n  \\n  (x = 1);\\n  (y = 0);\\n  \\n  while ((y < 100000)) {\\n    {\\n    (x  = (x + y));\\n    (y  = (y + 1));\\n    }\\n\\n  }\\n  \\n{;\\n//@ assert( (x >= y) );\\n}\\n\\n}'}"
      ]
     },
     "execution_count": 5,
     "metadata": {},
     "output_type": "execute_result"
    }
   ],
   "source": [
    "benchmarks[0]"
   ]
  },
  {
   "cell_type": "code",
   "execution_count": 11,
   "id": "bb5c6508",
   "metadata": {},
   "outputs": [
    {
     "data": {
      "text/plain": [
       "False"
      ]
     },
     "execution_count": 11,
     "metadata": {},
     "output_type": "execute_result"
    }
   ],
   "source": [
    "benchmarks[1][\"code\"] == benchmarks[2][\"code\"]"
   ]
  },
  {
   "cell_type": "code",
   "execution_count": 6,
   "id": "6fb17c5f",
   "metadata": {},
   "outputs": [],
   "source": [
    "if not os.path.exists(\"results\"):\n",
    "    os.makedirs(\"results\")"
   ]
  },
  {
   "cell_type": "code",
   "execution_count": 17,
   "id": "a615e93a",
   "metadata": {},
   "outputs": [],
   "source": [
    "from copy import deepcopy"
   ]
  },
  {
   "cell_type": "code",
   "execution_count": 20,
   "id": "b634a712",
   "metadata": {},
   "outputs": [
    {
     "name": "stdout",
     "output_type": "stream",
     "text": [
      "Processing 1.c\n",
      "Processing 2.c\n",
      "Processing 3.c\n",
      "Processing 4.c\n",
      "Processing 5.c\n",
      "Processing 6.c\n",
      "Processing 7.c\n",
      "Processing 8.c\n",
      "Processing 9.c\n",
      "Processing 10.c\n",
      "Processing 11.c\n",
      "Processing 12.c\n",
      "Processing 13.c\n",
      "Processing 14.c\n",
      "Processing 15.c\n",
      "Processing 16.c\n",
      "Processing 17.c\n",
      "Processing 18.c\n",
      "Processing 19.c\n",
      "Processing 20.c\n",
      "Processing 21.c\n",
      "Processing 22.c\n",
      "Processing 23.c\n",
      "Processing 24.c\n",
      "Processing 25.c\n"
     ]
    }
   ],
   "source": [
    "for i in range(1, 26):\n",
    "    print(f\"Processing {i}.c\")\n",
    "    prompt_template = deepcopy(prompt)\n",
    "    prompt_template = prompt_template.format(code=benchmarks[i-1][\"code\"])\n",
    "    output = syn_llm.infer(prompt_template, stop_words=None)\n",
    "    benchmarks[i-1][\"invariants\"] = output"
   ]
  },
  {
   "cell_type": "code",
   "execution_count": 21,
   "id": "f1680047",
   "metadata": {},
   "outputs": [],
   "source": [
    "import datetime\n",
    "timestamp = datetime.datetime.now().strftime(\"%Y_%m_%d_%H_%M_%S.json\")\n",
    "with open(f\"dataset/results/{timestamp}\", \"w\") as f:\n",
    "    json.dump(benchmarks, f, indent=4)"
   ]
  }
 ],
 "metadata": {
  "kernelspec": {
   "display_name": "codex",
   "language": "python",
   "name": "python3"
  },
  "language_info": {
   "codemirror_mode": {
    "name": "ipython",
    "version": 3
   },
   "file_extension": ".py",
   "mimetype": "text/x-python",
   "name": "python",
   "nbconvert_exporter": "python",
   "pygments_lexer": "ipython3",
   "version": "3.12.5"
  }
 },
 "nbformat": 4,
 "nbformat_minor": 5
}
