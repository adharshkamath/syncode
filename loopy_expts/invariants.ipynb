{
 "cells": [
  {
   "cell_type": "code",
   "execution_count": 1,
   "id": "23530ae1",
   "metadata": {},
   "outputs": [
    {
     "name": "stderr",
     "output_type": "stream",
     "text": [
      "/home/adharsh/miniconda3/envs/syncode/lib/python3.12/site-packages/tqdm/auto.py:21: TqdmWarning: IProgress not found. Please update jupyter and ipywidgets. See https://ipywidgets.readthedocs.io/en/stable/user_install.html\n",
      "  from .autonotebook import tqdm as notebook_tqdm\n",
      "Loading checkpoint shards: 100%|██████████| 2/2 [00:01<00:00,  1.87it/s]\n",
      "You are using the default legacy behaviour of the <class 'transformers.models.llama.tokenization_llama_fast.LlamaTokenizerFast'>. This is expected, and simply means that the `legacy` (previous) behavior will be used so nothing changes for you. If you want to use the new behaviour, set `legacy=False`. This should only be set if you understand what it means, and thoroughly read the reason why this was added as explained in https://github.com/huggingface/transformers/pull/24565 - if you loaded a llama tokenizer from a GGUF file you can ignore this message.\n"
     ]
    }
   ],
   "source": [
    "from syncode import Syncode\n",
    "import warnings\n",
    "warnings.filterwarnings('ignore')\n",
    "\n",
    "model_name = \"/data/share/models/hugging_face/Llama-7b\"\n",
    "grammar_file = open(\"invariants.lark\", \"r\") \n",
    "grammar = grammar_file.read()\n",
    "grammar_file.close()\n",
    "\n",
    "# Load the Syncode augmented model\n",
    "syn_llm = Syncode(model = model_name, mode='grammar_mask', grammar=grammar, parse_output_only=True, num_samples=15)"
   ]
  },
  {
   "cell_type": "code",
   "execution_count": 5,
   "id": "9488c06e",
   "metadata": {},
   "outputs": [],
   "source": [
    "prompt = \"\"\"You are a helpful AI software assistant that reasons about how code behaves. Given a program, you can find loop invariants, which can then be used to verify some property in the program. \n",
    "Frama-C is a software verification tool for C programs. The input to Frama-C is a C program file with ACSL (ANSI/ISO C Specification Language) annotations.\n",
    "For the given program, find the necessary loop invariants of the while loop to help Frama-C verify the post-condition.\n",
    "\n",
    "Instructions:\n",
    "- Make a note of the pre-conditions or variable assignments in the program.\n",
    "- Analyze the loop body and make a note of the loop condition. \n",
    "- Output loop invariants that are true \n",
    "(i) before the loop execution, \n",
    "(ii) in every iteration of the loop and \n",
    "(iii) after the loop termination, \n",
    "such that the loop invariants imply the post condition.\n",
    "- If a loop invariant is a conjunction, split it into its parts.\n",
    "- Output all the loop invariants in one code block. For example:\n",
    "```\n",
    "/*@ \n",
    "    loop invariant i1;\n",
    "    loop invariant i2;\n",
    "*/\n",
    "```\n",
    "Rules:\n",
    "- **Do not use variables or functions that are not declared in the program.** \n",
    "- **Do not make any assumptions about functions whose definitions are not given.**\n",
    "- **All undefined variables contain garbage values. Do not use variables that have garbage values.**\n",
    "- **Do not use keywords that are not supported in ACSL annotations for loops.**\n",
    "- **Variables that are not explicitly initialized, could have garbage values. Do not make any assumptions about such values.**\n",
    "- **Do not use the \\at(x, Pre) notation for any variable x.**\n",
    "- **Do not use non-deterministic function calls.**\n",
    "\n",
    "Consider the following C program:\n",
    "```\n",
    "{code}\n",
    "```\n",
    "\n",
    "You are allowed to use implication to take care of the conditional nature of the code. Use implication (==>) instead of using if-then.\n",
    "\n",
    "For all variables, add conjunctions that bound the maximum and minimum values that they can take, if such bounds exist.\n",
    "\n",
    "If a variable is always equal to or smaller or larger than another variable, add a conjunction for their relation.\n",
    "\n",
    "If the assertion is guarded by a condition, use the guard condition in an implication.\n",
    "\n",
    "If certain variables are non-deterministic at the beginning or end of the loop, use an implication to make the invariant trivially true at that location. \n",
    "\n",
    "Output the loop invariants for the loop in the program above. Let's think step by step.\n",
    "\"\"\""
   ]
  },
  {
   "cell_type": "code",
   "execution_count": null,
   "id": "916120f7",
   "metadata": {},
   "outputs": [],
   "source": []
  }
 ],
 "metadata": {
  "kernelspec": {
   "display_name": "codex",
   "language": "python",
   "name": "python3"
  },
  "language_info": {
   "codemirror_mode": {
    "name": "ipython",
    "version": 3
   },
   "file_extension": ".py",
   "mimetype": "text/x-python",
   "name": "python",
   "nbconvert_exporter": "python",
   "pygments_lexer": "ipython3",
   "version": "3.12.5"
  }
 },
 "nbformat": 4,
 "nbformat_minor": 5
}
